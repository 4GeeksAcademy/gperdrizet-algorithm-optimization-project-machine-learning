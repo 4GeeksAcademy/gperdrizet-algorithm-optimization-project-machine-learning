{
 "cells": [
  {
   "cell_type": "code",
   "execution_count": 1,
   "id": "275f1ad9",
   "metadata": {},
   "outputs": [],
   "source": [
    "import random\n",
    "import time\n",
    "import string\n",
    "\n",
    "import numpy as np\n",
    "from collections import Counter\n",
    "from memory_profiler import memory_usage"
   ]
  },
  {
   "attachments": {},
   "cell_type": "markdown",
   "id": "27b09e13",
   "metadata": {},
   "source": [
    "# Optimization of Algorithms problems"
   ]
  },
  {
   "attachments": {},
   "cell_type": "markdown",
   "id": "ed05e9bf",
   "metadata": {},
   "source": [
    "## Exercise 1\n",
    "### Code Optimization for Text Processing\n",
    "\n",
    "You are provided with a text processing code to perform the following operations:\n",
    "\n",
    "1. Convert all text to lowercase.\n",
    "2. Remove punctuation marks.\n",
    "3. Count the frequency of each word.\n",
    "4. Show the 5 most common words.\n",
    "\n",
    "The code works, but it is inefficient and can be optimized. Your task is to identify areas that can be improved and rewrite those parts to make the code more efficient and readable."
   ]
  },
  {
   "cell_type": "code",
   "execution_count": 2,
   "id": "8467465b",
   "metadata": {},
   "outputs": [
    {
     "name": "stdout",
     "output_type": "stream",
     "text": [
      "'the': 5 veces\n",
      "'of': 3 veces\n",
      "'in': 2 veces\n",
      "'a': 2 veces\n",
      "'she': 2 veces\n"
     ]
    }
   ],
   "source": [
    "def remove_punctuation(text):\n",
    "    translator = str.maketrans(\"\", \"\", string.punctuation)\n",
    "    return text.translate(translator)\n",
    "\n",
    "def count_words(text):\n",
    "    # Split text into words\n",
    "    palabras = text.split()\n",
    "\n",
    "    return Counter(palabras)\n",
    "\n",
    "def get_most_common(frequencies, n = 5):\n",
    "    return frequencies.most_common(n)\n",
    "\n",
    "def process_text(text):\n",
    "    # Text to lowercase\n",
    "    text = text.lower()\n",
    "\n",
    "    # Remove punctuation\n",
    "    text = remove_punctuation(text)\n",
    "    \n",
    "    # Count frecuencies\n",
    "    frequencies = count_words(text)\n",
    "    \n",
    "    top_5 = get_most_common(frequencies)\n",
    "    \n",
    "    for w, frequency in top_5:\n",
    "        print(f\"'{w}': {frequency} veces\")\n",
    "\n",
    "text = \"\"\"\n",
    "    In the heart of the city, Emily discovered a quaint little café, hidden away from the bustling streets. \n",
    "    The aroma of freshly baked pastries wafted through the air, drawing in passersby. As she sipped on her latte, \n",
    "    she noticed an old bookshelf filled with classics, creating a cozy atmosphere that made her lose track of time.\n",
    "\"\"\"\n",
    "\n",
    "process_text(text)"
   ]
  },
  {
   "cell_type": "markdown",
   "id": "29040779",
   "metadata": {},
   "source": [
    "Points to optimize:\n",
    "\n",
    "1. **Removal of punctuation marks**: Using `replace` in a loop can be inefficient, especially with long texts. Look for a more efficient way to remove punctuation marks.\n",
    "2. **Frequency count**: The code checks for the existence of each word in the dictionary and then updates its count. This can be done more efficiently with certain data structures in Python.\n",
    "3. **Sort and select:** Consider if there is a more direct or efficient way to get the 5 most frequent words without sorting all the words.\n",
    "4. **Modularity**: Break the code into smaller functions so that each one performs a specific task. This will not only optimize performance, but also make the code more readable and maintainable."
   ]
  },
  {
   "cell_type": "code",
   "execution_count": 3,
   "id": "57cd6641",
   "metadata": {},
   "outputs": [
    {
     "name": "stdout",
     "output_type": "stream",
     "text": [
      "[('the', 4), ('of', 3), ('a', 2), ('she', 2), ('her', 2)]\n"
     ]
    }
   ],
   "source": [
    "from collections import Counter\n",
    "\n",
    "def lowercase(text: str) -> str:\n",
    "    '''Takes text string, returns lowercased string.'''\n",
    "\n",
    "    return text.lower()\n",
    "\n",
    "def remove_punctuation(text: str) -> str:\n",
    "    '''Takes text string, removes common puncuation marks. returns string'''\n",
    "\n",
    "    return ''.join([x for x in list(text) if x not in string.punctuation])\n",
    "\n",
    "def top_n(text: str, n: int) -> list:\n",
    "    '''Takes text string and n, returns a list of tuples containing the top n most common \n",
    "    words: (word, frequency).'''\n",
    "\n",
    "    return Counter(text.split()).most_common(n)\n",
    "\n",
    "print(top_n(text, 5))"
   ]
  },
  {
   "attachments": {},
   "cell_type": "markdown",
   "id": "011996bc",
   "metadata": {},
   "source": [
    "## Exercise 2\n",
    "### Code Optimization for List Processing\n",
    "\n",
    "You have been given a code that performs operations on a list of numbers for:\n",
    "\n",
    "1. Filter out even numbers.\n",
    "2. Duplicate each number.\n",
    "3. Add all numbers.\n",
    "4. Check if the result is a prime number.\n",
    "\n",
    "The code provided achieves its goal, but it may be inefficient. Your task is to identify and improve the parts of the code to increase its efficiency."
   ]
  },
  {
   "cell_type": "code",
   "execution_count": 6,
   "id": "783d03a0",
   "metadata": {},
   "outputs": [
    {
     "name": "stdout",
     "output_type": "stream",
     "text": [
      "Result: 60, ¿Prime? No\n"
     ]
    }
   ],
   "source": [
    "import math\n",
    "\n",
    "def is_prime(n):\n",
    "    if n <= 1:\n",
    "        return False\n",
    "    for i in range(2, int(math.sqrt(n)) + 1):\n",
    "        if n % i == 0:\n",
    "            return False\n",
    "    return True\n",
    "\n",
    "def process_list(list_):\n",
    "    filtered_list = []\n",
    "    for num in list_:\n",
    "        if num % 2 == 0:\n",
    "            filtered_list.append(num)\n",
    "    \n",
    "    duplicate_list = []\n",
    "    for num in filtered_list:\n",
    "        duplicate_list.append(num * 2)\n",
    "        \n",
    "    sum = 0\n",
    "    for num in duplicate_list:\n",
    "        sum += num\n",
    "\n",
    "    prime = is_prime(sum)\n",
    "    \n",
    "    return sum, prime\n",
    "\n",
    "nums = [1, 2, 3, 4, 5, 6, 7, 8, 9, 10]\n",
    "result, result_prime = process_list(nums)\n",
    "print(f\"Result: {result}, ¿Prime? {'Yes' if result_prime else 'No'}\")"
   ]
  },
  {
   "cell_type": "markdown",
   "id": "128d564e",
   "metadata": {},
   "source": [
    "Points to optimize:\n",
    "\n",
    "1. **Filter numbers**: The code goes through the original list to filter out even numbers. Consider a more efficient way to filter the list.\n",
    "2. **Duplication**: The list is traversed multiple times. Is there a way to do this more efficiently?\n",
    "3. **Summing**: The numbers in a list are summed through a loop. Python has built-in functions that can optimize this.\n",
    "4. **Function `is_prime`**: While this function is relatively efficient, investigate if there are ways to make it even faster.\n",
    "5. **Modularity**: Consider breaking the code into smaller functions, each focused on a specific task."
   ]
  },
  {
   "cell_type": "markdown",
   "id": "e5d2e818",
   "metadata": {},
   "source": [
    "### 1. Removing even numbers"
   ]
  },
  {
   "cell_type": "code",
   "execution_count": 7,
   "id": "f40e35d6",
   "metadata": {},
   "outputs": [
    {
     "name": "stdout",
     "output_type": "stream",
     "text": [
      "Numpy result: [1 3 5 7 9]\n",
      "List comprehension result: [1, 3, 5, 7, 9]\n"
     ]
    }
   ],
   "source": [
    "# Two possible functions to remove even numbers, one that uses\n",
    "# Numpy and one the uses a list comprehension.\n",
    "\n",
    "def numpy_remove_evens(nums: list) -> list:\n",
    "    '''Removes even numbers from list using np.where.'''\n",
    "\n",
    "    nums=np.array(nums)\n",
    "\n",
    "    return nums[nums % 2 != 0]\n",
    "\n",
    "\n",
    "def list_comp_remove_evens(nums: list) -> list:\n",
    "    '''Removes even numbers from list using list comprehension.'''\n",
    "\n",
    "    return [x for x in nums if x % 2 !=0]\n",
    "\n",
    "\n",
    "nums=[1, 2, 3, 4, 5, 6, 7, 8, 9, 10]\n",
    "print(f'Numpy result: {numpy_remove_evens(nums)}')\n",
    "print(f'List comprehension result: {list_comp_remove_evens(nums)}')"
   ]
  },
  {
   "cell_type": "markdown",
   "id": "e0797827",
   "metadata": {},
   "source": [
    "Test the two different versions for speed and memory usage."
   ]
  },
  {
   "cell_type": "code",
   "execution_count": 29,
   "id": "97509368",
   "metadata": {},
   "outputs": [],
   "source": [
    "n=500       # Number of trial to run\n",
    "k=10000000  # List length to use for each trial"
   ]
  },
  {
   "cell_type": "code",
   "execution_count": 30,
   "id": "cc7606e1",
   "metadata": {},
   "outputs": [],
   "source": [
    "# Run the memory usage test with n replicates of k numbers each\n",
    "numpy_memory_use=[]\n",
    "list_comprehension_memory_use=[]\n",
    "\n",
    "# Collet n memory use measurments with different random lists\n",
    "for trial in range(n):\n",
    "\n",
    "    # Generate some random integers for this trial\n",
    "    random_list=random.choices(list(range(0,100)), k=k)\n",
    "\n",
    "    # Test numpy version\n",
    "    mem_usage=memory_usage((numpy_remove_evens, (random_list,)))\n",
    "    numpy_memory_use.append(max(mem_usage))\n",
    "\n",
    "    # Test list comprehension version\n",
    "    mem_usage=memory_usage((list_comp_remove_evens, (random_list,)))\n",
    "    list_comprehension_memory_use.append(max(mem_usage))"
   ]
  },
  {
   "cell_type": "code",
   "execution_count": 31,
   "id": "07f7b1e2",
   "metadata": {},
   "outputs": [],
   "source": [
    "# Run execution time test with n replicates of k numbers each\n",
    "numpy_execution_time=[]\n",
    "list_comprehension_execution_time=[]\n",
    "\n",
    "# Collet n speed measurments with different random lists\n",
    "for trial in range(n):\n",
    "\n",
    "    # Generate some random integers for this trial\n",
    "    random_list=random.choices(list(range(0,100)), k=k)\n",
    "\n",
    "    # Test numpy version\n",
    "    start=time.time()\n",
    "    numpy_remove_evens(random_list)\n",
    "    numpy_execution_time.append(time.time() - start)\n",
    "\n",
    "    # Test list comprehension version\n",
    "    start=time.time()\n",
    "    list_comp_remove_evens(random_list)\n",
    "    list_comprehension_execution_time.append(time.time() - start)"
   ]
  },
  {
   "cell_type": "code",
   "execution_count": 32,
   "id": "b43e4c67",
   "metadata": {},
   "outputs": [
    {
     "data": {
      "image/png": "[encoded data removed]",
      "text/plain": [
       "<Figure size 800x400 with 2 Axes>"
      ]
     },
     "metadata": {},
     "output_type": "display_data"
    }
   ],
   "source": [
    "# Plot the results\n",
    "import matplotlib.pyplot as plt\n",
    "\n",
    "fig, axs=plt.subplots(1, 2, figsize=(8, 4))\n",
    "axs=axs.flatten()\n",
    "\n",
    "fig.suptitle(f'Even number removal preformance results\\n(n={n}, k={k})')\n",
    "\n",
    "_, memory_bins=np.histogram(numpy_memory_use + list_comprehension_memory_use, bins=20)\n",
    "\n",
    "axs[0].set_title('Memory footprint')\n",
    "axs[0].hist(numpy_memory_use, bins=memory_bins, alpha=0.3, label='Numpy')\n",
    "axs[0].hist(list_comprehension_memory_use, bins=memory_bins, alpha=0.3, label='List comprehension')\n",
    "axs[0].set_xlabel('Memory footprint (MB)')\n",
    "axs[0].set_ylabel('Trials')\n",
    "axs[0].set_yscale('log')\n",
    "axs[0].legend(loc='best')\n",
    "\n",
    "_, time_bins=np.histogram(numpy_execution_time + list_comprehension_execution_time, bins=20)\n",
    "\n",
    "axs[1].set_title('Execution time')\n",
    "axs[1].hist(numpy_execution_time, bins=time_bins, alpha=0.3, label='Numpy')\n",
    "axs[1].hist(list_comprehension_execution_time, bins=time_bins, alpha=0.3, label='List comprehension')\n",
    "axs[1].set_xlabel('Execution time (sec.)')\n",
    "axs[1].set_ylabel('Trials')\n",
    "axs[1].set_yscale('log')\n",
    "axs[1].legend(loc='best')\n",
    "\n",
    "plt.tight_layout()\n",
    "plt.show()"
   ]
  },
  {
   "attachments": {},
   "cell_type": "markdown",
   "id": "1af70806",
   "metadata": {},
   "source": [
    "Both exercises will help you improve your code performance optimization skills and give you a better understanding of how different data structures and programming techniques can affect the efficiency of your code."
   ]
  }
 ],
 "metadata": {
  "kernelspec": {
   "display_name": "Python 3",
   "language": "python",
   "name": "python3"
  },
  "language_info": {
   "codemirror_mode": {
    "name": "ipython",
    "version": 3
   },
   "file_extension": ".py",
   "mimetype": "text/x-python",
   "name": "python",
   "nbconvert_exporter": "python",
   "pygments_lexer": "ipython3",
   "version": "3.11.4"
  }
 },
 "nbformat": 4,
 "nbformat_minor": 5
}
