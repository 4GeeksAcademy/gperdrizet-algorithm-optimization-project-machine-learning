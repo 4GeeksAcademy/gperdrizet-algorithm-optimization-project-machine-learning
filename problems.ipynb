{
 "cells": [
  {
   "cell_type": "code",
   "execution_count": 1,
   "id": "275f1ad9",
   "metadata": {},
   "outputs": [],
   "source": [
    "import string\n",
    "from collections import Counter"
   ]
  },
  {
   "attachments": {},
   "cell_type": "markdown",
   "id": "27b09e13",
   "metadata": {},
   "source": [
    "# Optimization of Algorithms problems"
   ]
  },
  {
   "attachments": {},
   "cell_type": "markdown",
   "id": "ed05e9bf",
   "metadata": {},
   "source": [
    "## Exercise 1\n",
    "### Code Optimization for Text Processing\n",
    "\n",
    "You are provided with a text processing code to perform the following operations:\n",
    "\n",
    "1. Convert all text to lowercase.\n",
    "2. Remove punctuation marks.\n",
    "3. Count the frequency of each word.\n",
    "4. Show the 5 most common words.\n",
    "\n",
    "The code works, but it is inefficient and can be optimized. Your task is to identify areas that can be improved and rewrite those parts to make the code more efficient and readable."
   ]
  },
  {
   "cell_type": "code",
   "execution_count": null,
   "id": "8467465b",
   "metadata": {},
   "outputs": [
    {
     "name": "stdout",
     "output_type": "stream",
     "text": [
      "'the': 5 veces\n",
      "'of': 3 veces\n",
      "'in': 2 veces\n",
      "'a': 2 veces\n",
      "'she': 2 veces\n"
     ]
    }
   ],
   "source": [
    "def remove_punctuation(text):\n",
    "    translator = str.maketrans(\"\", \"\", string.punctuation)\n",
    "    return text.translate(translator)\n",
    "\n",
    "def count_words(text):\n",
    "    # Split text into words\n",
    "    palabras = text.split()\n",
    "\n",
    "    return Counter(palabras)\n",
    "\n",
    "def get_most_common(frequencies, n = 5):\n",
    "    return frequencies.most_common(n)\n",
    "\n",
    "def process_text(text):\n",
    "    # Text to lowercase\n",
    "    text = text.lower()\n",
    "\n",
    "    # Remove punctuation\n",
    "    text = remove_punctuation(text)\n",
    "    \n",
    "    # Count frequencies\n",
    "    frequencies = count_words(text)\n",
    "    \n",
    "    top_5 = get_most_common(frequencies)\n",
    "    \n",
    "    for w, frequency in top_5:\n",
    "        print(f\"'{w}': {frequency} veces\")\n",
    "\n",
    "text = \"\"\"\n",
    "    In the heart of the city, Emily discovered a quaint little café, hidden away from the bustling streets. \n",
    "    The aroma of freshly baked pastries wafted through the air, drawing in passersby. As she sipped on her latte, \n",
    "    she noticed an old bookshelf filled with classics, creating a cozy atmosphere that made her lose track of time.\n",
    "\"\"\"\n",
    "\n",
    "process_text(text)"
   ]
  },
  {
   "cell_type": "markdown",
   "id": "29040779",
   "metadata": {},
   "source": [
    "Points to optimize:\n",
    "\n",
    "1. **Removal of punctuation marks**: Using `replace` in a loop can be inefficient, especially with long texts. Look for a more efficient way to remove punctuation marks.\n",
    "2. **Frequency count**: The code checks for the existence of each word in the dictionary and then updates its count. This can be done more efficiently with certain data structures in Python.\n",
    "3. **Sort and select:** Consider if there is a more direct or efficient way to get the 5 most frequent words without sorting all the words.\n",
    "4. **Modularity**: Break the code into smaller functions so that each one performs a specific task. This will not only optimize performance, but also make the code more readable and maintainable."
   ]
  },
  {
   "cell_type": "code",
   "execution_count": 3,
   "id": "57cd6641",
   "metadata": {},
   "outputs": [
    {
     "name": "stdout",
     "output_type": "stream",
     "text": [
      "[('the', 4), ('of', 3), ('a', 2), ('she', 2), ('her', 2)]\n"
     ]
    }
   ],
   "source": [
    "from collections import Counter\n",
    "\n",
    "def lowercase(text: str) -> str:\n",
    "    '''Takes text string, returns lowercased string.'''\n",
    "\n",
    "    return text.lower()\n",
    "\n",
    "def remove_punctuation(text: str) -> str:\n",
    "    '''Takes text string, removes common puncuation marks. returns string'''\n",
    "\n",
    "    return ''.join([x for x in list(text) if x not in string.punctuation])\n",
    "\n",
    "def top_n(text: str, n: int) -> list:\n",
    "    '''Takes text string and n, returns a list of tuples containing the top n most common \n",
    "    words: (word, frequency).'''\n",
    "\n",
    "    return Counter(text.split()).most_common(n)\n",
    "\n",
    "print(top_n(text, 5))"
   ]
  },
  {
   "attachments": {},
   "cell_type": "markdown",
   "id": "011996bc",
   "metadata": {},
   "source": [
    "## Exercise 2\n",
    "### Code Optimization for List Processing\n",
    "\n",
    "You have been given a code that performs operations on a list of numbers for:\n",
    "\n",
    "1. Filter out even numbers.\n",
    "2. Duplicate each number.\n",
    "3. Add all numbers.\n",
    "4. Check if the result is a prime number.\n",
    "\n",
    "The code provided achieves its goal, but it may be inefficient. Your task is to identify and improve the parts of the code to increase its efficiency."
   ]
  },
  {
   "cell_type": "code",
   "execution_count": 4,
   "id": "783d03a0",
   "metadata": {},
   "outputs": [
    {
     "name": "stdout",
     "output_type": "stream",
     "text": [
      "Result: 60, ¿Prime? No\n"
     ]
    }
   ],
   "source": [
    "import math\n",
    "\n",
    "def is_prime(n):\n",
    "    if n <= 1:\n",
    "        return False\n",
    "    for i in range(2, int(math.sqrt(n)) + 1):\n",
    "        if n % i == 0:\n",
    "            return False\n",
    "    return True\n",
    "\n",
    "def process_list(list_):\n",
    "    filtered_list = []\n",
    "    for num in list_:\n",
    "        if num % 2 == 0:\n",
    "            filtered_list.append(num)\n",
    "    \n",
    "    duplicate_list = []\n",
    "    for num in filtered_list:\n",
    "        duplicate_list.append(num * 2)\n",
    "        \n",
    "    sum = 0\n",
    "    for num in duplicate_list:\n",
    "        sum += num\n",
    "\n",
    "    prime = is_prime(sum)\n",
    "    \n",
    "    return sum, prime\n",
    "\n",
    "nums = [1, 2, 3, 4, 5, 6, 7, 8, 9, 10]\n",
    "result, result_prime = process_list(nums)\n",
    "print(f\"Result: {result}, ¿Prime? {'Yes' if result_prime else 'No'}\")"
   ]
  },
  {
   "cell_type": "markdown",
   "id": "128d564e",
   "metadata": {},
   "source": [
    "Points to optimize:\n",
    "\n",
    "1. **Filter numbers**: The code goes through the original list to filter out even numbers. Consider a more efficient way to filter the list.\n",
    "2. **Duplication**: The list is traversed multiple times. Is there a way to do this more efficiently?\n",
    "3. **Summing**: The numbers in a list are summed through a loop. Python has built-in functions that can optimize this.\n",
    "4. **Function `is_prime`**: While this function is relatively efficient, investigate if there are ways to make it even faster.\n",
    "5. **Modularity**: Consider breaking the code into smaller functions, each focused on a specific task."
   ]
  },
  {
   "cell_type": "code",
   "execution_count": 5,
   "id": "f40e35d6",
   "metadata": {},
   "outputs": [
    {
     "name": "stdout",
     "output_type": "stream",
     "text": [
      "Remove evens: [1, 3, 5, 7, 9]\n",
      "Double numbers: [2, 4, 6, 8, 10, 12, 14, 16, 18, 20]\n",
      "List sum: 55\n",
      "Is prime? False\n"
     ]
    }
   ],
   "source": [
    "def remove_evens(nums: list) -> list:\n",
    "    '''Removes even numbers from list using list comprehension.'''\n",
    "\n",
    "    return [x for x in nums if x % 2 !=0]\n",
    "\n",
    "\n",
    "def double_list(nums: list) -> list:\n",
    "    '''Doubles every number in a list.'''\n",
    "\n",
    "    return [2*x for x in nums]\n",
    "\n",
    "\n",
    "def sum_list(nums: list) -> int:\n",
    "    '''Sums numbers in a list.'''\n",
    "\n",
    "    return sum(nums)\n",
    "\n",
    "\n",
    "def check_prime(num: int) -> bool:\n",
    "    '''Checks if a number is prime, returns True or False.'''\n",
    "\n",
    "    return all(num % i for i in range(2, num))\n",
    "\n",
    "\n",
    "print(f'Remove evens: {remove_evens(nums)}')\n",
    "print(f'Double numbers: {double_list(nums)}')\n",
    "print(f'List sum: {sum_list(nums)}')\n",
    "print(f'Is prime? {check_prime(33)}')"
   ]
  },
  {
   "cell_type": "code",
   "execution_count": 6,
   "id": "bd582aa7",
   "metadata": {},
   "outputs": [],
   "source": [
    "# Complete function\n",
    "def process_list(nums: list) -> bool:\n",
    "    '''Complete function to do all four operations on list.\n",
    "    Returns final answer as Bool.'''\n",
    "\n",
    "    odds=remove_evens(nums)\n",
    "    doubled=double_list(odds)\n",
    "    sum=sum_list(doubled)\n",
    "\n",
    "    return check_prime(sum)"
   ]
  },
  {
   "cell_type": "code",
   "execution_count": 7,
   "id": "cef752f9",
   "metadata": {},
   "outputs": [
    {
     "name": "stdout",
     "output_type": "stream",
     "text": [
      "False\n"
     ]
    }
   ],
   "source": [
    "print(process_list(nums))"
   ]
  },
  {
   "attachments": {},
   "cell_type": "markdown",
   "id": "1af70806",
   "metadata": {},
   "source": [
    "Both exercises will help you improve your code performance optimization skills and give you a better understanding of how different data structures and programming techniques can affect the efficiency of your code."
   ]
  }
 ],
 "metadata": {
  "kernelspec": {
   "display_name": "Python 3",
   "language": "python",
   "name": "python3"
  },
  "language_info": {
   "codemirror_mode": {
    "name": "ipython",
    "version": 3
   },
   "file_extension": ".py",
   "mimetype": "text/x-python",
   "name": "python",
   "nbconvert_exporter": "python",
   "pygments_lexer": "ipython3",
   "version": "3.11.4"
  }
 },
 "nbformat": 4,
 "nbformat_minor": 5
}
